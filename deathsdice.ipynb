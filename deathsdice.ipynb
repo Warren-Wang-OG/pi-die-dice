{
 "cells": [
  {
   "cell_type": "markdown",
   "id": "c53b19e5-4022-4e6d-b9ac-ab936f65a3a7",
   "metadata": {},
   "source": [
    "# Death's Dice | Pi Day Things\n",
    "Idea from 3blue1brown tweet found [here](https://twitter.com/3blue1brown/status/1503423352207147010?s=21).\n",
    "\n",
    "So every year Death comes to you and rolls \"dice\" to determine whether you live or die. You only die when rolling the pair of dice yields \"snake eyes\" -- both dice rolled 1."
   ]
  },
  {
   "cell_type": "code",
   "execution_count": 1,
   "id": "0e26a7da-42ab-4324-939e-88f1d41c24cc",
   "metadata": {},
   "outputs": [],
   "source": [
    "import matplotlib.pyplot as plt\n",
    "import numpy as np\n",
    "import random"
   ]
  },
  {
   "cell_type": "code",
   "execution_count": 2,
   "id": "0137ac21-8e60-4be9-a628-f01654b8a81d",
   "metadata": {},
   "outputs": [],
   "source": [
    "class Dice:\n",
    "    def __init__(self, sides):\n",
    "        self.sides = sides\n",
    "        self.values = [i+1 for i in range(self.sides)]\n",
    "    \n",
    "    def roll(self):\n",
    "        return random.choice(self.values)\n",
    "    \n",
    "    def double_roll(self):\n",
    "        return (self.roll(), self.roll())"
   ]
  },
  {
   "cell_type": "code",
   "execution_count": 9,
   "id": "482a0f94-0c0f-496d-937f-3d8da98b6642",
   "metadata": {},
   "outputs": [],
   "source": [
    "class Simulation:\n",
    "    def __init__(self, years):\n",
    "        self.years = years\n",
    "        self.dices = []\n",
    "        self.prob_immortal = 1\n",
    "        for i in range(years):\n",
    "            dice = Dice(2+(i*2))\n",
    "            self.dices.append(dice)\n",
    "        self.prob_immortal_over_time = []\n",
    "        self.times = []\n",
    "    \n",
    "    def run(self):\n",
    "        statsCycle = 100\n",
    "        count = 0\n",
    "        for i in range(self.years):\n",
    "            dice = self.dices[i]\n",
    "            probLiving = 1 - (1/dice.sides)**2\n",
    "            self.prob_immortal *= probLiving\n",
    "            # save stats every year to internal variables\n",
    "            self.times.append(i)\n",
    "            self.prob_immortal_over_time.append(self.prob_immortal)\n",
    "            # save stats every so often to file\n",
    "            count += 1\n",
    "            if(count == statsCycle):\n",
    "                with open(\"stats.txt\",\"a\") as f:\n",
    "                    f.write(f\"year: {i}\\nProbLiving: {probLiving}\\nProbImmortal: {self.prob_immortal}\\n\")\n",
    "                    f.write(f\"probImmortal closeness to 2/pi: {self.prob_immortal/(2/np.pi)}\\n\\n\")\n",
    "                count = 0\n",
    "        print(\"sim fin\")"
   ]
  },
  {
   "cell_type": "code",
   "execution_count": 10,
   "id": "e4c63066-61a7-457d-a54b-b9f1cea74e83",
   "metadata": {},
   "outputs": [],
   "source": [
    "sim = Simulation(10000)"
   ]
  },
  {
   "cell_type": "code",
   "execution_count": 11,
   "id": "6c4bb349-afc2-43b5-9e8e-dd301a1fa6af",
   "metadata": {},
   "outputs": [
    {
     "name": "stdout",
     "output_type": "stream",
     "text": [
      "sim fin\n"
     ]
    }
   ],
   "source": [
    "sim.run()"
   ]
  },
  {
   "cell_type": "code",
   "execution_count": 12,
   "id": "391aa047-0c70-41e6-8ded-b078f0a80596",
   "metadata": {},
   "outputs": [
    {
     "data": {
      "text/plain": [
       "Text(0, 0.5, 'Probability of Living')"
      ]
     },
     "execution_count": 12,
     "metadata": {},
     "output_type": "execute_result"
    },
    {
     "data": {
      "image/png": "[encoded data removed]",
      "text/plain": [
       "<Figure size 432x288 with 1 Axes>"
      ]
     },
     "metadata": {
      "needs_background": "light"
     },
     "output_type": "display_data"
    }
   ],
   "source": [
    "plt.figure()\n",
    "plt.axhline(y=2/np.pi, color='r', linestyle='-', label=\"$2/\\pi$\")\n",
    "plt.plot(sim.times, sim.prob_immortal_over_time, label=\"sim data\")\n",
    "plt.title(\"Probability of Living vs. Time\")\n",
    "plt.legend()\n",
    "plt.xlabel(\"Time [years]\")\n",
    "plt.ylabel(\"Probability of Living\")"
   ]
  },
  {
   "cell_type": "code",
   "execution_count": null,
   "id": "33ebb497-6b57-4785-bac7-f5644e50c960",
   "metadata": {},
   "outputs": [],
   "source": []
  }
 ],
 "metadata": {
  "kernelspec": {
   "display_name": "Python 3 (ipykernel)",
   "language": "python",
   "name": "python3"
  },
  "language_info": {
   "codemirror_mode": {
    "name": "ipython",
    "version": 3
   },
   "file_extension": ".py",
   "mimetype": "text/x-python",
   "name": "python",
   "nbconvert_exporter": "python",
   "pygments_lexer": "ipython3",
   "version": "3.9.7"
  }
 },
 "nbformat": 4,
 "nbformat_minor": 5
}
